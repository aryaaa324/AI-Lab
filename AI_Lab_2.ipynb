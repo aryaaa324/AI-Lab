{
 "cells": [
  {
   "cell_type": "code",
   "execution_count": 1,
   "id": "06e73d73-2fa7-416f-9438-d0c047ff01da",
   "metadata": {},
   "outputs": [
    {
     "name": "stdin",
     "output_type": "stream",
     "text": [
      "Enter the number of nodes in the graph:  4\n",
      "Enter neighbors of node 0 (space-separated):  1 2\n",
      "Enter neighbors of node 1 (space-separated):  2\n",
      "Enter neighbors of node 2 (space-separated):  1 3\n",
      "Enter neighbors of node 3 (space-separated):  3\n",
      "Enter the starting node for DFS:  2\n"
     ]
    },
    {
     "name": "stdout",
     "output_type": "stream",
     "text": [
      "DFS Traversal: 2 1 3 \n"
     ]
    }
   ],
   "source": [
    "def dfs(graph, start, visited=None):\n",
    "    if visited is None:\n",
    "        visited = []\n",
    "\n",
    "    if start not in visited:\n",
    "        visited.append(start)\n",
    "        print(start, end=\" \")\n",
    "\n",
    "        for neighbor in graph[start]:\n",
    "            dfs(graph, neighbor, visited)\n",
    "\n",
    "n = int(input(\"Enter the number of nodes in the graph: \"))\n",
    "graph = {}\n",
    "for i in range(n):\n",
    "    neighbors = list(map(int, input(f\"Enter neighbors of node {i} (space-separated): \").split()))\n",
    "    graph[i] = neighbors\n",
    "\n",
    "start_node = int(input(\"Enter the starting node for DFS: \"))\n",
    "print(\"DFS Traversal:\", end=\" \")\n",
    "dfs(graph, start_node)\n",
    "print()\n"
   ]
  },
  {
   "cell_type": "code",
   "execution_count": 2,
   "id": "92b588fe-9f95-4569-bba7-7ff1b9e40a87",
   "metadata": {},
   "outputs": [
    {
     "name": "stdin",
     "output_type": "stream",
     "text": [
      "Enter the number of nodes in the graph:  4\n",
      "Enter neighbors of node 0 (space-separated):  1 2\n",
      "Enter neighbors of node 1 (space-separated):  2\n",
      "Enter neighbors of node 2 (space-separated):  1 3\n",
      "Enter neighbors of node 3 (space-separated):  3\n",
      "Enter the starting node for BFS:  2\n"
     ]
    },
    {
     "name": "stdout",
     "output_type": "stream",
     "text": [
      "BFS Traversal: 2 1 3 \n"
     ]
    }
   ],
   "source": [
    "def bfs(graph, start):\n",
    "    visited = []\n",
    "    queue = [start]\n",
    "\n",
    "    print(\"BFS Traversal:\", end=\" \")\n",
    "    while queue:\n",
    "        node = queue.pop(0)\n",
    "        if node not in visited:\n",
    "            visited.append(node)\n",
    "            print(node, end=\" \")\n",
    "\n",
    "            queue.extend(graph[node])\n",
    "\n",
    "    print()\n",
    "\n",
    "n = int(input(\"Enter the number of nodes in the graph: \"))\n",
    "graph = {}\n",
    "for i in range(n):\n",
    "    neighbors = list(map(int, input(f\"Enter neighbors of node {i} (space-separated): \").split()))\n",
    "    graph[i] = neighbors\n",
    "\n",
    "start_node = int(input(\"Enter the starting node for BFS: \"))\n",
    "bfs(graph, start_node)\n"
   ]
  },
  {
   "cell_type": "code",
   "execution_count": null,
   "id": "6c6eff22-f5cf-4252-a83f-2919e44b0a30",
   "metadata": {},
   "outputs": [],
   "source": []
  }
 ],
 "metadata": {
  "kernelspec": {
   "display_name": "Python 3 (ipykernel)",
   "language": "python",
   "name": "python3"
  },
  "language_info": {
   "codemirror_mode": {
    "name": "ipython",
    "version": 3
   },
   "file_extension": ".py",
   "mimetype": "text/x-python",
   "name": "python",
   "nbconvert_exporter": "python",
   "pygments_lexer": "ipython3",
   "version": "3.12.4"
  }
 },
 "nbformat": 4,
 "nbformat_minor": 5
}
